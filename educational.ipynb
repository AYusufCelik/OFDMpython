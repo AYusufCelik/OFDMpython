{
 "cells": [
  {
   "cell_type": "markdown",
   "id": "f87c7ca0",
   "metadata": {},
   "source": [
    "Bu proje kapsamında \n",
    "https://dspillustrations.com/pages/posts/misc/python-ofdm-example.html adresinde Maximilian Matthe'nin anlattığı Python OFDM Örneği projesinin Türkçeleştirilmesi ve ekstra yorumlarla zenginleştirilmesi gerçekleştirilmiştir. Atlanmış olabilecek birtakım detaylar için yahut daha pek çok benzer projeyi görmek için websitesini ziyaret edebilirsiniz"
   ]
  },
  {
   "cell_type": "markdown",
   "id": "2e12dc2a",
   "metadata": {},
   "source": [
    "### Kütüphanelerin Import Edilmesi\n",
    "\n",
    "###### 1. Numpy\n",
    "\n",
    "###### 2. Matplotlib\n",
    "\n",
    "###### 3. Scipy\n"
   ]
  },
  {
   "cell_type": "code",
   "execution_count": 1,
   "id": "e948dbdd",
   "metadata": {},
   "outputs": [],
   "source": [
    "import numpy as np\n",
    "import matplotlib.pyplot as plt\n",
    "import scipy"
   ]
  },
  {
   "cell_type": "markdown",
   "id": "8383db11",
   "metadata": {},
   "source": [
    "#### OFDM Subcarrier Sayısı: \n",
    "   İletişim için ayrılan bandwidth'in kaç farklı alt-taşıyıcı'ya bölüneceğini belirler. Örnek olarak eğer iletişim için ayrılan bandwidth 20 MHz ise 64 tane subcarrier'ın olması durumunda aslında 20 Mhz / 64 = 312.5 KHz ile tek birbirinde ortalama 312.5 KHz uzaklıktaki frekans aralıklarında yer alan 64 adet farklı frekanstaki alt taşıyıcıdan bahsetmiş oluruz\n",
    "   \n",
    "#### Cyclic-Prefix: \n",
    "   Cyclic prefix....\n",
    "   \n",
    "#### Pilot: \n",
    "   Pilot, iletişim kanalındaki zayıflamayı (attenuation) ve bozulmayı (distortion) belirlemek için kullanılan; hem verici hem de alıcı tarafından iletişim öncesi ortak belirlenmiş bilgi parçalarıdır. Pilot değerinin \"olması gereken\" formuyla \"olduğu\" formu kıyaslanarak iletilen sinyal üzerinde yaşanan zayıflama ve bozulma düzeltilebilir "
   ]
  },
  {
   "cell_type": "code",
   "execution_count": 2,
   "id": "d41384f6",
   "metadata": {},
   "outputs": [],
   "source": [
    "K = 64  # OFDM Subcarrier sayısı\n",
    "CP = K//4  # Cyclic prefix uzunluğu, bu örnekte subcarrier sayısının %25'i olarak seçildi\n",
    "P = 8  # Her kaç asıl datayı taşıyan subcarrier başına pilot-subcarrier oluşturulacağı\n",
    "pilotValue = 3 + 3j # Pilot sinyalde karşılaştırma için kullanılacak, hem alıcı hem verici tarafından ortak bilinen data\n",
    "\n",
    "allCarriers = np.arange(K)\n",
    "pilotCarriers = allCarriers[::K//P]\n",
    "pilotCarriers = np.hstack([pilotCarriers, np.array([allCarriers[-1]])])\n",
    "P = P + 1\n",
    "\n",
    "dataCarriers = np.delete(allCarriers, pilotCarriers)"
   ]
  },
  {
   "cell_type": "code",
   "execution_count": 4,
   "id": "9ae3c043",
   "metadata": {},
   "outputs": [
    {
     "name": "stdout",
     "output_type": "stream",
     "text": [
      "allCarriers:   [ 0  1  2  3  4  5  6  7  8  9 10 11 12 13 14 15 16 17 18 19 20 21 22 23\n",
      " 24 25 26 27 28 29 30 31 32 33 34 35 36 37 38 39 40 41 42 43 44 45 46 47\n",
      " 48 49 50 51 52 53 54 55 56 57 58 59 60 61 62 63]\n",
      "pilotCarriers: [ 0  8 16 24 32 40 48 56 63]\n",
      "dataCarriers:  [ 1  2  3  4  5  6  7  9 10 11 12 13 14 15 17 18 19 20 21 22 23 25 26 27\n",
      " 28 29 30 31 33 34 35 36 37 38 39 41 42 43 44 45 46 47 49 50 51 52 53 54\n",
      " 55 57 58 59 60 61 62]\n"
     ]
    },
    {
     "data": {
      "text/plain": [
       "<matplotlib.legend.Legend at 0x17d941d1150>"
      ]
     },
     "execution_count": 4,
     "metadata": {},
     "output_type": "execute_result"
    },
    {
     "data": {
      "image/png": "[encoded data removed]",
      "text/plain": [
       "<Figure size 432x288 with 1 Axes>"
      ]
     },
     "metadata": {
      "needs_background": "light"
     },
     "output_type": "display_data"
    }
   ],
   "source": [
    "print (\"allCarriers:   %s\" % allCarriers)\n",
    "print (\"pilotCarriers: %s\" % pilotCarriers)\n",
    "print (\"dataCarriers:  %s\" % dataCarriers)\n",
    "plt.plot(pilotCarriers, np.zeros_like(pilotCarriers), 'bo', label='pilot')\n",
    "plt.plot(dataCarriers, np.zeros_like(dataCarriers), 'ro', label='data')\n",
    "plt.legend()"
   ]
  },
  {
   "cell_type": "code",
   "execution_count": null,
   "id": "55d21b69",
   "metadata": {},
   "outputs": [],
   "source": []
  }
 ],
 "metadata": {
  "kernelspec": {
   "display_name": "Python 3 (ipykernel)",
   "language": "python",
   "name": "python3"
  },
  "language_info": {
   "codemirror_mode": {
    "name": "ipython",
    "version": 3
   },
   "file_extension": ".py",
   "mimetype": "text/x-python",
   "name": "python",
   "nbconvert_exporter": "python",
   "pygments_lexer": "ipython3",
   "version": "3.10.4"
  }
 },
 "nbformat": 4,
 "nbformat_minor": 5
}
